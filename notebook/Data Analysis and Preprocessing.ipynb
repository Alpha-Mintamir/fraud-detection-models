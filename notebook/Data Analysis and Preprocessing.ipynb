{
 "cells": [
  {
   "cell_type": "markdown",
   "metadata": {},
   "source": [
    "# Data Analysis and Preprocessing\n",
    "\n",
    "This task focuses on preparing the dataset for subsequent analysis through the following steps:\n",
    "\n",
    "1. **Managing Missing Values**: Address missing data by imputing values or removing affected entries to maintain integrity.\n",
    "2. **Data Cleaning**: Eliminate duplicates and ensure correct data types for consistency.\n",
    "3. **Exploratory Data Analysis (EDA)**: Conduct univariate and bivariate analyses to understand features and their interactions.\n",
    "4. **Geolocation Analysis**:\n",
    "   - Convert IP addresses to integer format for easier handling.\n",
    "   - Merge `Fraud_Data.csv` with `IpAddress_to_Country.csv` to incorporate geolocation information.\n",
    "5. **Feature Engineering**:\n",
    "   - Analyze transaction frequency and velocity in `Fraud_Data.csv`.\n",
    "   - Generate time-based features like `hour_of_day` and `day_of_week` to capture trends.\n",
    "6. **Normalization and Scaling**: Normalize and scale features to ensure readiness for modeling.\n",
    "7. **Categorical Feature Encoding**: Convert categorical variables into a numerical format.\n",
    "\n",
    "Executing these steps will enhance the quality of our dataset and prepare it for further analysis and modeling.\n"
   ]
  },
  {
   "cell_type": "markdown",
   "metadata": {},
   "source": [
    "# 1. Import Libraries"
   ]
  },
  {
   "cell_type": "code",
   "execution_count": 1,
   "metadata": {},
   "outputs": [],
   "source": [
    "import pandas as pd\n",
    "import numpy as np\n",
    "import os\n",
    "import sys\n"
   ]
  },
  {
   "cell_type": "code",
   "execution_count": 2,
   "metadata": {},
   "outputs": [],
   "source": [
    "sys.path.append(os.path.abspath(os.path.join(os.getcwd(), '../scripts')))\n",
    "from utils import *\n",
    "from visualizations import *"
   ]
  },
  {
   "cell_type": "markdown",
   "metadata": {},
   "source": [
    "# 2. Loading data"
   ]
  },
  {
   "cell_type": "code",
   "execution_count": 3,
   "metadata": {},
   "outputs": [],
   "source": [
    "path = '../data/Fraud_Data.csv'\n",
    "path2 = '../data/IpAddress_to_Country.csv'\n",
    "path3 = '../data/creditcard.csv'\n",
    "df_creditcard = data_loader(path3)\n",
    "df_IpAddress_to_Country = data_loader(path2)\n",
    "df_fraud_data = data_loader(path)"
   ]
  },
  {
   "cell_type": "markdown",
   "metadata": {},
   "source": [
    "### Learning about the data"
   ]
  },
  {
   "cell_type": "code",
   "execution_count": 4,
   "metadata": {},
   "outputs": [
    {
     "data": {
      "text/html": [
       "<div>\n",
       "<style scoped>\n",
       "    .dataframe tbody tr th:only-of-type {\n",
       "        vertical-align: middle;\n",
       "    }\n",
       "\n",
       "    .dataframe tbody tr th {\n",
       "        vertical-align: top;\n",
       "    }\n",
       "\n",
       "    .dataframe thead th {\n",
       "        text-align: right;\n",
       "    }\n",
       "</style>\n",
       "<table border=\"1\" class=\"dataframe\">\n",
       "  <thead>\n",
       "    <tr style=\"text-align: right;\">\n",
       "      <th></th>\n",
       "      <th>Time</th>\n",
       "      <th>V1</th>\n",
       "      <th>V2</th>\n",
       "      <th>V3</th>\n",
       "      <th>V4</th>\n",
       "      <th>V5</th>\n",
       "      <th>V6</th>\n",
       "      <th>V7</th>\n",
       "      <th>V8</th>\n",
       "      <th>V9</th>\n",
       "      <th>...</th>\n",
       "      <th>V21</th>\n",
       "      <th>V22</th>\n",
       "      <th>V23</th>\n",
       "      <th>V24</th>\n",
       "      <th>V25</th>\n",
       "      <th>V26</th>\n",
       "      <th>V27</th>\n",
       "      <th>V28</th>\n",
       "      <th>Amount</th>\n",
       "      <th>Class</th>\n",
       "    </tr>\n",
       "  </thead>\n",
       "  <tbody>\n",
       "    <tr>\n",
       "      <th>0</th>\n",
       "      <td>0.0</td>\n",
       "      <td>-1.359807</td>\n",
       "      <td>-0.072781</td>\n",
       "      <td>2.536347</td>\n",
       "      <td>1.378155</td>\n",
       "      <td>-0.338321</td>\n",
       "      <td>0.462388</td>\n",
       "      <td>0.239599</td>\n",
       "      <td>0.098698</td>\n",
       "      <td>0.363787</td>\n",
       "      <td>...</td>\n",
       "      <td>-0.018307</td>\n",
       "      <td>0.277838</td>\n",
       "      <td>-0.110474</td>\n",
       "      <td>0.066928</td>\n",
       "      <td>0.128539</td>\n",
       "      <td>-0.189115</td>\n",
       "      <td>0.133558</td>\n",
       "      <td>-0.021053</td>\n",
       "      <td>149.62</td>\n",
       "      <td>0</td>\n",
       "    </tr>\n",
       "    <tr>\n",
       "      <th>1</th>\n",
       "      <td>0.0</td>\n",
       "      <td>1.191857</td>\n",
       "      <td>0.266151</td>\n",
       "      <td>0.166480</td>\n",
       "      <td>0.448154</td>\n",
       "      <td>0.060018</td>\n",
       "      <td>-0.082361</td>\n",
       "      <td>-0.078803</td>\n",
       "      <td>0.085102</td>\n",
       "      <td>-0.255425</td>\n",
       "      <td>...</td>\n",
       "      <td>-0.225775</td>\n",
       "      <td>-0.638672</td>\n",
       "      <td>0.101288</td>\n",
       "      <td>-0.339846</td>\n",
       "      <td>0.167170</td>\n",
       "      <td>0.125895</td>\n",
       "      <td>-0.008983</td>\n",
       "      <td>0.014724</td>\n",
       "      <td>2.69</td>\n",
       "      <td>0</td>\n",
       "    </tr>\n",
       "    <tr>\n",
       "      <th>2</th>\n",
       "      <td>1.0</td>\n",
       "      <td>-1.358354</td>\n",
       "      <td>-1.340163</td>\n",
       "      <td>1.773209</td>\n",
       "      <td>0.379780</td>\n",
       "      <td>-0.503198</td>\n",
       "      <td>1.800499</td>\n",
       "      <td>0.791461</td>\n",
       "      <td>0.247676</td>\n",
       "      <td>-1.514654</td>\n",
       "      <td>...</td>\n",
       "      <td>0.247998</td>\n",
       "      <td>0.771679</td>\n",
       "      <td>0.909412</td>\n",
       "      <td>-0.689281</td>\n",
       "      <td>-0.327642</td>\n",
       "      <td>-0.139097</td>\n",
       "      <td>-0.055353</td>\n",
       "      <td>-0.059752</td>\n",
       "      <td>378.66</td>\n",
       "      <td>0</td>\n",
       "    </tr>\n",
       "    <tr>\n",
       "      <th>3</th>\n",
       "      <td>1.0</td>\n",
       "      <td>-0.966272</td>\n",
       "      <td>-0.185226</td>\n",
       "      <td>1.792993</td>\n",
       "      <td>-0.863291</td>\n",
       "      <td>-0.010309</td>\n",
       "      <td>1.247203</td>\n",
       "      <td>0.237609</td>\n",
       "      <td>0.377436</td>\n",
       "      <td>-1.387024</td>\n",
       "      <td>...</td>\n",
       "      <td>-0.108300</td>\n",
       "      <td>0.005274</td>\n",
       "      <td>-0.190321</td>\n",
       "      <td>-1.175575</td>\n",
       "      <td>0.647376</td>\n",
       "      <td>-0.221929</td>\n",
       "      <td>0.062723</td>\n",
       "      <td>0.061458</td>\n",
       "      <td>123.50</td>\n",
       "      <td>0</td>\n",
       "    </tr>\n",
       "    <tr>\n",
       "      <th>4</th>\n",
       "      <td>2.0</td>\n",
       "      <td>-1.158233</td>\n",
       "      <td>0.877737</td>\n",
       "      <td>1.548718</td>\n",
       "      <td>0.403034</td>\n",
       "      <td>-0.407193</td>\n",
       "      <td>0.095921</td>\n",
       "      <td>0.592941</td>\n",
       "      <td>-0.270533</td>\n",
       "      <td>0.817739</td>\n",
       "      <td>...</td>\n",
       "      <td>-0.009431</td>\n",
       "      <td>0.798278</td>\n",
       "      <td>-0.137458</td>\n",
       "      <td>0.141267</td>\n",
       "      <td>-0.206010</td>\n",
       "      <td>0.502292</td>\n",
       "      <td>0.219422</td>\n",
       "      <td>0.215153</td>\n",
       "      <td>69.99</td>\n",
       "      <td>0</td>\n",
       "    </tr>\n",
       "  </tbody>\n",
       "</table>\n",
       "<p>5 rows × 31 columns</p>\n",
       "</div>"
      ],
      "text/plain": [
       "   Time        V1        V2        V3        V4        V5        V6        V7  \\\n",
       "0   0.0 -1.359807 -0.072781  2.536347  1.378155 -0.338321  0.462388  0.239599   \n",
       "1   0.0  1.191857  0.266151  0.166480  0.448154  0.060018 -0.082361 -0.078803   \n",
       "2   1.0 -1.358354 -1.340163  1.773209  0.379780 -0.503198  1.800499  0.791461   \n",
       "3   1.0 -0.966272 -0.185226  1.792993 -0.863291 -0.010309  1.247203  0.237609   \n",
       "4   2.0 -1.158233  0.877737  1.548718  0.403034 -0.407193  0.095921  0.592941   \n",
       "\n",
       "         V8        V9  ...       V21       V22       V23       V24       V25  \\\n",
       "0  0.098698  0.363787  ... -0.018307  0.277838 -0.110474  0.066928  0.128539   \n",
       "1  0.085102 -0.255425  ... -0.225775 -0.638672  0.101288 -0.339846  0.167170   \n",
       "2  0.247676 -1.514654  ...  0.247998  0.771679  0.909412 -0.689281 -0.327642   \n",
       "3  0.377436 -1.387024  ... -0.108300  0.005274 -0.190321 -1.175575  0.647376   \n",
       "4 -0.270533  0.817739  ... -0.009431  0.798278 -0.137458  0.141267 -0.206010   \n",
       "\n",
       "        V26       V27       V28  Amount  Class  \n",
       "0 -0.189115  0.133558 -0.021053  149.62      0  \n",
       "1  0.125895 -0.008983  0.014724    2.69      0  \n",
       "2 -0.139097 -0.055353 -0.059752  378.66      0  \n",
       "3 -0.221929  0.062723  0.061458  123.50      0  \n",
       "4  0.502292  0.219422  0.215153   69.99      0  \n",
       "\n",
       "[5 rows x 31 columns]"
      ]
     },
     "execution_count": 4,
     "metadata": {},
     "output_type": "execute_result"
    }
   ],
   "source": [
    "df_creditcard.head()"
   ]
  },
  {
   "cell_type": "code",
   "execution_count": null,
   "metadata": {},
   "outputs": [
    {
     "data": {
      "text/html": [
       "<div>\n",
       "<style scoped>\n",
       "    .dataframe tbody tr th:only-of-type {\n",
       "        vertical-align: middle;\n",
       "    }\n",
       "\n",
       "    .dataframe tbody tr th {\n",
       "        vertical-align: top;\n",
       "    }\n",
       "\n",
       "    .dataframe thead th {\n",
       "        text-align: right;\n",
       "    }\n",
       "</style>\n",
       "<table border=\"1\" class=\"dataframe\">\n",
       "  <thead>\n",
       "    <tr style=\"text-align: right;\">\n",
       "      <th></th>\n",
       "      <th>lower_bound_ip_address</th>\n",
       "      <th>upper_bound_ip_address</th>\n",
       "      <th>country</th>\n",
       "    </tr>\n",
       "  </thead>\n",
       "  <tbody>\n",
       "    <tr>\n",
       "      <th>0</th>\n",
       "      <td>16777216.0</td>\n",
       "      <td>16777471</td>\n",
       "      <td>Australia</td>\n",
       "    </tr>\n",
       "    <tr>\n",
       "      <th>1</th>\n",
       "      <td>16777472.0</td>\n",
       "      <td>16777727</td>\n",
       "      <td>China</td>\n",
       "    </tr>\n",
       "    <tr>\n",
       "      <th>2</th>\n",
       "      <td>16777728.0</td>\n",
       "      <td>16778239</td>\n",
       "      <td>China</td>\n",
       "    </tr>\n",
       "    <tr>\n",
       "      <th>3</th>\n",
       "      <td>16778240.0</td>\n",
       "      <td>16779263</td>\n",
       "      <td>Australia</td>\n",
       "    </tr>\n",
       "    <tr>\n",
       "      <th>4</th>\n",
       "      <td>16779264.0</td>\n",
       "      <td>16781311</td>\n",
       "      <td>China</td>\n",
       "    </tr>\n",
       "  </tbody>\n",
       "</table>\n",
       "</div>"
      ],
      "text/plain": [
       "   lower_bound_ip_address  upper_bound_ip_address    country\n",
       "0              16777216.0                16777471  Australia\n",
       "1              16777472.0                16777727      China\n",
       "2              16777728.0                16778239      China\n",
       "3              16778240.0                16779263  Australia\n",
       "4              16779264.0                16781311      China"
      ]
     },
     "execution_count": 5,
     "metadata": {},
     "output_type": "execute_result"
    }
   ],
   "source": [
    "df_IpAddress_to_Country.head()"
   ]
  },
  {
   "cell_type": "code",
   "execution_count": null,
   "metadata": {},
   "outputs": [
    {
     "data": {
      "text/html": [
       "<div>\n",
       "<style scoped>\n",
       "    .dataframe tbody tr th:only-of-type {\n",
       "        vertical-align: middle;\n",
       "    }\n",
       "\n",
       "    .dataframe tbody tr th {\n",
       "        vertical-align: top;\n",
       "    }\n",
       "\n",
       "    .dataframe thead th {\n",
       "        text-align: right;\n",
       "    }\n",
       "</style>\n",
       "<table border=\"1\" class=\"dataframe\">\n",
       "  <thead>\n",
       "    <tr style=\"text-align: right;\">\n",
       "      <th></th>\n",
       "      <th>user_id</th>\n",
       "      <th>signup_time</th>\n",
       "      <th>purchase_time</th>\n",
       "      <th>purchase_value</th>\n",
       "      <th>device_id</th>\n",
       "      <th>source</th>\n",
       "      <th>browser</th>\n",
       "      <th>sex</th>\n",
       "      <th>age</th>\n",
       "      <th>ip_address</th>\n",
       "      <th>class</th>\n",
       "    </tr>\n",
       "  </thead>\n",
       "  <tbody>\n",
       "    <tr>\n",
       "      <th>0</th>\n",
       "      <td>22058</td>\n",
       "      <td>2015-02-24 22:55:49</td>\n",
       "      <td>2015-04-18 02:47:11</td>\n",
       "      <td>34</td>\n",
       "      <td>QVPSPJUOCKZAR</td>\n",
       "      <td>SEO</td>\n",
       "      <td>Chrome</td>\n",
       "      <td>M</td>\n",
       "      <td>39</td>\n",
       "      <td>7.327584e+08</td>\n",
       "      <td>0</td>\n",
       "    </tr>\n",
       "    <tr>\n",
       "      <th>1</th>\n",
       "      <td>333320</td>\n",
       "      <td>2015-06-07 20:39:50</td>\n",
       "      <td>2015-06-08 01:38:54</td>\n",
       "      <td>16</td>\n",
       "      <td>EOGFQPIZPYXFZ</td>\n",
       "      <td>Ads</td>\n",
       "      <td>Chrome</td>\n",
       "      <td>F</td>\n",
       "      <td>53</td>\n",
       "      <td>3.503114e+08</td>\n",
       "      <td>0</td>\n",
       "    </tr>\n",
       "    <tr>\n",
       "      <th>2</th>\n",
       "      <td>1359</td>\n",
       "      <td>2015-01-01 18:52:44</td>\n",
       "      <td>2015-01-01 18:52:45</td>\n",
       "      <td>15</td>\n",
       "      <td>YSSKYOSJHPPLJ</td>\n",
       "      <td>SEO</td>\n",
       "      <td>Opera</td>\n",
       "      <td>M</td>\n",
       "      <td>53</td>\n",
       "      <td>2.621474e+09</td>\n",
       "      <td>1</td>\n",
       "    </tr>\n",
       "    <tr>\n",
       "      <th>3</th>\n",
       "      <td>150084</td>\n",
       "      <td>2015-04-28 21:13:25</td>\n",
       "      <td>2015-05-04 13:54:50</td>\n",
       "      <td>44</td>\n",
       "      <td>ATGTXKYKUDUQN</td>\n",
       "      <td>SEO</td>\n",
       "      <td>Safari</td>\n",
       "      <td>M</td>\n",
       "      <td>41</td>\n",
       "      <td>3.840542e+09</td>\n",
       "      <td>0</td>\n",
       "    </tr>\n",
       "    <tr>\n",
       "      <th>4</th>\n",
       "      <td>221365</td>\n",
       "      <td>2015-07-21 07:09:52</td>\n",
       "      <td>2015-09-09 18:40:53</td>\n",
       "      <td>39</td>\n",
       "      <td>NAUITBZFJKHWW</td>\n",
       "      <td>Ads</td>\n",
       "      <td>Safari</td>\n",
       "      <td>M</td>\n",
       "      <td>45</td>\n",
       "      <td>4.155831e+08</td>\n",
       "      <td>0</td>\n",
       "    </tr>\n",
       "  </tbody>\n",
       "</table>\n",
       "</div>"
      ],
      "text/plain": [
       "   user_id          signup_time        purchase_time  purchase_value  \\\n",
       "0    22058  2015-02-24 22:55:49  2015-04-18 02:47:11              34   \n",
       "1   333320  2015-06-07 20:39:50  2015-06-08 01:38:54              16   \n",
       "2     1359  2015-01-01 18:52:44  2015-01-01 18:52:45              15   \n",
       "3   150084  2015-04-28 21:13:25  2015-05-04 13:54:50              44   \n",
       "4   221365  2015-07-21 07:09:52  2015-09-09 18:40:53              39   \n",
       "\n",
       "       device_id source browser sex  age    ip_address  class  \n",
       "0  QVPSPJUOCKZAR    SEO  Chrome   M   39  7.327584e+08      0  \n",
       "1  EOGFQPIZPYXFZ    Ads  Chrome   F   53  3.503114e+08      0  \n",
       "2  YSSKYOSJHPPLJ    SEO   Opera   M   53  2.621474e+09      1  \n",
       "3  ATGTXKYKUDUQN    SEO  Safari   M   41  3.840542e+09      0  \n",
       "4  NAUITBZFJKHWW    Ads  Safari   M   45  4.155831e+08      0  "
      ]
     },
     "execution_count": 6,
     "metadata": {},
     "output_type": "execute_result"
    }
   ],
   "source": [
    "df_fraud_data.head()"
   ]
  },
  {
   "cell_type": "code",
   "execution_count": 7,
   "metadata": {},
   "outputs": [
    {
     "data": {
      "text/html": [
       "<div>\n",
       "<style scoped>\n",
       "    .dataframe tbody tr th:only-of-type {\n",
       "        vertical-align: middle;\n",
       "    }\n",
       "\n",
       "    .dataframe tbody tr th {\n",
       "        vertical-align: top;\n",
       "    }\n",
       "\n",
       "    .dataframe thead th {\n",
       "        text-align: right;\n",
       "    }\n",
       "</style>\n",
       "<table border=\"1\" class=\"dataframe\">\n",
       "  <thead>\n",
       "    <tr style=\"text-align: right;\">\n",
       "      <th></th>\n",
       "      <th>col_name</th>\n",
       "      <th>col_dtype</th>\n",
       "      <th>num_of_nulls</th>\n",
       "      <th>num_of_non_nulls</th>\n",
       "      <th>num_of_distinct_values</th>\n",
       "      <th>distinct_values_counts</th>\n",
       "    </tr>\n",
       "  </thead>\n",
       "  <tbody>\n",
       "    <tr>\n",
       "      <th>0</th>\n",
       "      <td>Time</td>\n",
       "      <td>float64</td>\n",
       "      <td>0</td>\n",
       "      <td>284807</td>\n",
       "      <td>124592</td>\n",
       "      <td>{163152.0: 36, 64947.0: 26, 68780.0: 25, 3767....</td>\n",
       "    </tr>\n",
       "    <tr>\n",
       "      <th>1</th>\n",
       "      <td>V1</td>\n",
       "      <td>float64</td>\n",
       "      <td>0</td>\n",
       "      <td>284807</td>\n",
       "      <td>275663</td>\n",
       "      <td>{2.05579700630039: 77, 1.24567381944824: 77, 2...</td>\n",
       "    </tr>\n",
       "    <tr>\n",
       "      <th>2</th>\n",
       "      <td>V2</td>\n",
       "      <td>float64</td>\n",
       "      <td>0</td>\n",
       "      <td>284807</td>\n",
       "      <td>275663</td>\n",
       "      <td>{-0.32666777306077: 77, 0.166975019545401: 77,...</td>\n",
       "    </tr>\n",
       "    <tr>\n",
       "      <th>3</th>\n",
       "      <td>V3</td>\n",
       "      <td>float64</td>\n",
       "      <td>0</td>\n",
       "      <td>284807</td>\n",
       "      <td>275663</td>\n",
       "      <td>{-2.75204095570008: 77, 0.488305742562781: 77,...</td>\n",
       "    </tr>\n",
       "    <tr>\n",
       "      <th>4</th>\n",
       "      <td>V4</td>\n",
       "      <td>float64</td>\n",
       "      <td>0</td>\n",
       "      <td>284807</td>\n",
       "      <td>275663</td>\n",
       "      <td>{-0.842316033286871: 77, 0.6353219207244: 77, ...</td>\n",
       "    </tr>\n",
       "    <tr>\n",
       "      <th>5</th>\n",
       "      <td>V5</td>\n",
       "      <td>float64</td>\n",
       "      <td>0</td>\n",
       "      <td>284807</td>\n",
       "      <td>275663</td>\n",
       "      <td>{2.46307225982454: 77, -0.562776680773863: 77,...</td>\n",
       "    </tr>\n",
       "    <tr>\n",
       "      <th>6</th>\n",
       "      <td>V6</td>\n",
       "      <td>float64</td>\n",
       "      <td>0</td>\n",
       "      <td>284807</td>\n",
       "      <td>275663</td>\n",
       "      <td>{3.17385642307029: 77, -1.01107261632698: 77, ...</td>\n",
       "    </tr>\n",
       "    <tr>\n",
       "      <th>7</th>\n",
       "      <td>V7</td>\n",
       "      <td>float64</td>\n",
       "      <td>0</td>\n",
       "      <td>284807</td>\n",
       "      <td>275663</td>\n",
       "      <td>{-0.432125923987824: 77, 0.0149526614685896: 7...</td>\n",
       "    </tr>\n",
       "    <tr>\n",
       "      <th>8</th>\n",
       "      <td>V8</td>\n",
       "      <td>float64</td>\n",
       "      <td>0</td>\n",
       "      <td>284807</td>\n",
       "      <td>275663</td>\n",
       "      <td>{0.727706200727824: 77, -0.160210863301812: 77...</td>\n",
       "    </tr>\n",
       "    <tr>\n",
       "      <th>9</th>\n",
       "      <td>V9</td>\n",
       "      <td>float64</td>\n",
       "      <td>0</td>\n",
       "      <td>284807</td>\n",
       "      <td>275663</td>\n",
       "      <td>{0.608605870267216: 77, 0.17036185217373: 77, ...</td>\n",
       "    </tr>\n",
       "    <tr>\n",
       "      <th>10</th>\n",
       "      <td>V10</td>\n",
       "      <td>float64</td>\n",
       "      <td>0</td>\n",
       "      <td>284807</td>\n",
       "      <td>275663</td>\n",
       "      <td>{-0.0751861699398929: 77, -0.0445745893804268:...</td>\n",
       "    </tr>\n",
       "    <tr>\n",
       "      <th>11</th>\n",
       "      <td>V11</td>\n",
       "      <td>float64</td>\n",
       "      <td>0</td>\n",
       "      <td>284807</td>\n",
       "      <td>275663</td>\n",
       "      <td>{0.0635044576008839: 77, -0.35674901847752: 77...</td>\n",
       "    </tr>\n",
       "    <tr>\n",
       "      <th>12</th>\n",
       "      <td>V12</td>\n",
       "      <td>float64</td>\n",
       "      <td>0</td>\n",
       "      <td>284807</td>\n",
       "      <td>275663</td>\n",
       "      <td>{0.350563573253678: 77, -0.0734595173503765: 7...</td>\n",
       "    </tr>\n",
       "    <tr>\n",
       "      <th>13</th>\n",
       "      <td>V13</td>\n",
       "      <td>float64</td>\n",
       "      <td>0</td>\n",
       "      <td>284807</td>\n",
       "      <td>275663</td>\n",
       "      <td>{-0.141238322200309: 77, -0.517759694198053: 7...</td>\n",
       "    </tr>\n",
       "    <tr>\n",
       "      <th>14</th>\n",
       "      <td>V14</td>\n",
       "      <td>float64</td>\n",
       "      <td>0</td>\n",
       "      <td>284807</td>\n",
       "      <td>275663</td>\n",
       "      <td>{0.690971618395625: 77, 0.406968934383731: 77,...</td>\n",
       "    </tr>\n",
       "    <tr>\n",
       "      <th>15</th>\n",
       "      <td>V15</td>\n",
       "      <td>float64</td>\n",
       "      <td>0</td>\n",
       "      <td>284807</td>\n",
       "      <td>275663</td>\n",
       "      <td>{1.2752570390935: 77, 1.12414692288685: 77, 0....</td>\n",
       "    </tr>\n",
       "    <tr>\n",
       "      <th>16</th>\n",
       "      <td>V16</td>\n",
       "      <td>float64</td>\n",
       "      <td>0</td>\n",
       "      <td>284807</td>\n",
       "      <td>275663</td>\n",
       "      <td>{-0.371962125028419: 77, 0.342469754110769: 77...</td>\n",
       "    </tr>\n",
       "    <tr>\n",
       "      <th>17</th>\n",
       "      <td>V17</td>\n",
       "      <td>float64</td>\n",
       "      <td>0</td>\n",
       "      <td>284807</td>\n",
       "      <td>275663</td>\n",
       "      <td>{-0.601956802828445: 77, -0.374656440051376: 7...</td>\n",
       "    </tr>\n",
       "    <tr>\n",
       "      <th>18</th>\n",
       "      <td>V18</td>\n",
       "      <td>float64</td>\n",
       "      <td>0</td>\n",
       "      <td>284807</td>\n",
       "      <td>275663</td>\n",
       "      <td>{-0.0526401462570187: 77, -0.438992432436683: ...</td>\n",
       "    </tr>\n",
       "    <tr>\n",
       "      <th>19</th>\n",
       "      <td>V19</td>\n",
       "      <td>float64</td>\n",
       "      <td>0</td>\n",
       "      <td>284807</td>\n",
       "      <td>275663</td>\n",
       "      <td>{-0.330590448442944: 77, -0.116090785002835: 7...</td>\n",
       "    </tr>\n",
       "    <tr>\n",
       "      <th>20</th>\n",
       "      <td>V20</td>\n",
       "      <td>float64</td>\n",
       "      <td>0</td>\n",
       "      <td>284807</td>\n",
       "      <td>275663</td>\n",
       "      <td>{-0.180370118559693: 77, -0.132079724302295: 7...</td>\n",
       "    </tr>\n",
       "    <tr>\n",
       "      <th>21</th>\n",
       "      <td>V21</td>\n",
       "      <td>float64</td>\n",
       "      <td>0</td>\n",
       "      <td>284807</td>\n",
       "      <td>275663</td>\n",
       "      <td>{0.269764951361357: 77, -0.262580846041176: 77...</td>\n",
       "    </tr>\n",
       "    <tr>\n",
       "      <th>22</th>\n",
       "      <td>V22</td>\n",
       "      <td>float64</td>\n",
       "      <td>0</td>\n",
       "      <td>284807</td>\n",
       "      <td>275663</td>\n",
       "      <td>{0.844626646775712: 77, -0.816263763157847: 77...</td>\n",
       "    </tr>\n",
       "    <tr>\n",
       "      <th>23</th>\n",
       "      <td>V23</td>\n",
       "      <td>float64</td>\n",
       "      <td>0</td>\n",
       "      <td>284807</td>\n",
       "      <td>275663</td>\n",
       "      <td>{0.0206746676928111: 77, 0.140304302014326: 77...</td>\n",
       "    </tr>\n",
       "    <tr>\n",
       "      <th>24</th>\n",
       "      <td>V24</td>\n",
       "      <td>float64</td>\n",
       "      <td>0</td>\n",
       "      <td>284807</td>\n",
       "      <td>275663</td>\n",
       "      <td>{0.726211883811499: 77, 0.357827249299806: 77,...</td>\n",
       "    </tr>\n",
       "    <tr>\n",
       "      <th>25</th>\n",
       "      <td>V25</td>\n",
       "      <td>float64</td>\n",
       "      <td>0</td>\n",
       "      <td>284807</td>\n",
       "      <td>275663</td>\n",
       "      <td>{0.366624307004913: 77, 0.186422945723389: 77,...</td>\n",
       "    </tr>\n",
       "    <tr>\n",
       "      <th>26</th>\n",
       "      <td>V26</td>\n",
       "      <td>float64</td>\n",
       "      <td>0</td>\n",
       "      <td>284807</td>\n",
       "      <td>275663</td>\n",
       "      <td>{-0.398827514959463: 77, 0.0965444707905616: 7...</td>\n",
       "    </tr>\n",
       "    <tr>\n",
       "      <th>27</th>\n",
       "      <td>V27</td>\n",
       "      <td>float64</td>\n",
       "      <td>0</td>\n",
       "      <td>284807</td>\n",
       "      <td>275663</td>\n",
       "      <td>{0.0277351215052822: 77, -0.035866315294695: 7...</td>\n",
       "    </tr>\n",
       "    <tr>\n",
       "      <th>28</th>\n",
       "      <td>V28</td>\n",
       "      <td>float64</td>\n",
       "      <td>0</td>\n",
       "      <td>284807</td>\n",
       "      <td>275663</td>\n",
       "      <td>{-0.0602821510762213: 77, 0.0184945729704665: ...</td>\n",
       "    </tr>\n",
       "    <tr>\n",
       "      <th>29</th>\n",
       "      <td>Amount</td>\n",
       "      <td>float64</td>\n",
       "      <td>0</td>\n",
       "      <td>284807</td>\n",
       "      <td>32767</td>\n",
       "      <td>{1.0: 13688, 1.98: 6044, 0.89: 4872, 9.99: 474...</td>\n",
       "    </tr>\n",
       "    <tr>\n",
       "      <th>30</th>\n",
       "      <td>Class</td>\n",
       "      <td>int64</td>\n",
       "      <td>0</td>\n",
       "      <td>284807</td>\n",
       "      <td>2</td>\n",
       "      <td>{0: 284315, 1: 492}</td>\n",
       "    </tr>\n",
       "  </tbody>\n",
       "</table>\n",
       "</div>"
      ],
      "text/plain": [
       "   col_name col_dtype  num_of_nulls  num_of_non_nulls  num_of_distinct_values  \\\n",
       "0      Time   float64             0            284807                  124592   \n",
       "1        V1   float64             0            284807                  275663   \n",
       "2        V2   float64             0            284807                  275663   \n",
       "3        V3   float64             0            284807                  275663   \n",
       "4        V4   float64             0            284807                  275663   \n",
       "5        V5   float64             0            284807                  275663   \n",
       "6        V6   float64             0            284807                  275663   \n",
       "7        V7   float64             0            284807                  275663   \n",
       "8        V8   float64             0            284807                  275663   \n",
       "9        V9   float64             0            284807                  275663   \n",
       "10      V10   float64             0            284807                  275663   \n",
       "11      V11   float64             0            284807                  275663   \n",
       "12      V12   float64             0            284807                  275663   \n",
       "13      V13   float64             0            284807                  275663   \n",
       "14      V14   float64             0            284807                  275663   \n",
       "15      V15   float64             0            284807                  275663   \n",
       "16      V16   float64             0            284807                  275663   \n",
       "17      V17   float64             0            284807                  275663   \n",
       "18      V18   float64             0            284807                  275663   \n",
       "19      V19   float64             0            284807                  275663   \n",
       "20      V20   float64             0            284807                  275663   \n",
       "21      V21   float64             0            284807                  275663   \n",
       "22      V22   float64             0            284807                  275663   \n",
       "23      V23   float64             0            284807                  275663   \n",
       "24      V24   float64             0            284807                  275663   \n",
       "25      V25   float64             0            284807                  275663   \n",
       "26      V26   float64             0            284807                  275663   \n",
       "27      V27   float64             0            284807                  275663   \n",
       "28      V28   float64             0            284807                  275663   \n",
       "29   Amount   float64             0            284807                   32767   \n",
       "30    Class     int64             0            284807                       2   \n",
       "\n",
       "                               distinct_values_counts  \n",
       "0   {163152.0: 36, 64947.0: 26, 68780.0: 25, 3767....  \n",
       "1   {2.05579700630039: 77, 1.24567381944824: 77, 2...  \n",
       "2   {-0.32666777306077: 77, 0.166975019545401: 77,...  \n",
       "3   {-2.75204095570008: 77, 0.488305742562781: 77,...  \n",
       "4   {-0.842316033286871: 77, 0.6353219207244: 77, ...  \n",
       "5   {2.46307225982454: 77, -0.562776680773863: 77,...  \n",
       "6   {3.17385642307029: 77, -1.01107261632698: 77, ...  \n",
       "7   {-0.432125923987824: 77, 0.0149526614685896: 7...  \n",
       "8   {0.727706200727824: 77, -0.160210863301812: 77...  \n",
       "9   {0.608605870267216: 77, 0.17036185217373: 77, ...  \n",
       "10  {-0.0751861699398929: 77, -0.0445745893804268:...  \n",
       "11  {0.0635044576008839: 77, -0.35674901847752: 77...  \n",
       "12  {0.350563573253678: 77, -0.0734595173503765: 7...  \n",
       "13  {-0.141238322200309: 77, -0.517759694198053: 7...  \n",
       "14  {0.690971618395625: 77, 0.406968934383731: 77,...  \n",
       "15  {1.2752570390935: 77, 1.12414692288685: 77, 0....  \n",
       "16  {-0.371962125028419: 77, 0.342469754110769: 77...  \n",
       "17  {-0.601956802828445: 77, -0.374656440051376: 7...  \n",
       "18  {-0.0526401462570187: 77, -0.438992432436683: ...  \n",
       "19  {-0.330590448442944: 77, -0.116090785002835: 7...  \n",
       "20  {-0.180370118559693: 77, -0.132079724302295: 7...  \n",
       "21  {0.269764951361357: 77, -0.262580846041176: 77...  \n",
       "22  {0.844626646775712: 77, -0.816263763157847: 77...  \n",
       "23  {0.0206746676928111: 77, 0.140304302014326: 77...  \n",
       "24  {0.726211883811499: 77, 0.357827249299806: 77,...  \n",
       "25  {0.366624307004913: 77, 0.186422945723389: 77,...  \n",
       "26  {-0.398827514959463: 77, 0.0965444707905616: 7...  \n",
       "27  {0.0277351215052822: 77, -0.035866315294695: 7...  \n",
       "28  {-0.0602821510762213: 77, 0.0184945729704665: ...  \n",
       "29  {1.0: 13688, 1.98: 6044, 0.89: 4872, 9.99: 474...  \n",
       "30                                {0: 284315, 1: 492}  "
      ]
     },
     "execution_count": 7,
     "metadata": {},
     "output_type": "execute_result"
    }
   ],
   "source": [
    "column_summary(df_creditcard)"
   ]
  },
  {
   "cell_type": "code",
   "execution_count": 8,
   "metadata": {},
   "outputs": [
    {
     "data": {
      "text/html": [
       "<div>\n",
       "<style scoped>\n",
       "    .dataframe tbody tr th:only-of-type {\n",
       "        vertical-align: middle;\n",
       "    }\n",
       "\n",
       "    .dataframe tbody tr th {\n",
       "        vertical-align: top;\n",
       "    }\n",
       "\n",
       "    .dataframe thead th {\n",
       "        text-align: right;\n",
       "    }\n",
       "</style>\n",
       "<table border=\"1\" class=\"dataframe\">\n",
       "  <thead>\n",
       "    <tr style=\"text-align: right;\">\n",
       "      <th></th>\n",
       "      <th>col_name</th>\n",
       "      <th>col_dtype</th>\n",
       "      <th>num_of_nulls</th>\n",
       "      <th>num_of_non_nulls</th>\n",
       "      <th>num_of_distinct_values</th>\n",
       "      <th>distinct_values_counts</th>\n",
       "    </tr>\n",
       "  </thead>\n",
       "  <tbody>\n",
       "    <tr>\n",
       "      <th>0</th>\n",
       "      <td>lower_bound_ip_address</td>\n",
       "      <td>float64</td>\n",
       "      <td>0</td>\n",
       "      <td>138846</td>\n",
       "      <td>138846</td>\n",
       "      <td>{16777216.0: 1, 3322413056.0: 1, 3322437632.0:...</td>\n",
       "    </tr>\n",
       "    <tr>\n",
       "      <th>1</th>\n",
       "      <td>upper_bound_ip_address</td>\n",
       "      <td>int64</td>\n",
       "      <td>0</td>\n",
       "      <td>138846</td>\n",
       "      <td>138846</td>\n",
       "      <td>{16777471: 1, 3322415103: 1, 3322445823: 1, 33...</td>\n",
       "    </tr>\n",
       "    <tr>\n",
       "      <th>2</th>\n",
       "      <td>country</td>\n",
       "      <td>object</td>\n",
       "      <td>0</td>\n",
       "      <td>138846</td>\n",
       "      <td>235</td>\n",
       "      <td>{'United States': 46868, 'Canada': 6989, 'Russ...</td>\n",
       "    </tr>\n",
       "  </tbody>\n",
       "</table>\n",
       "</div>"
      ],
      "text/plain": [
       "                 col_name col_dtype  num_of_nulls  num_of_non_nulls  \\\n",
       "0  lower_bound_ip_address   float64             0            138846   \n",
       "1  upper_bound_ip_address     int64             0            138846   \n",
       "2                 country    object             0            138846   \n",
       "\n",
       "   num_of_distinct_values                             distinct_values_counts  \n",
       "0                  138846  {16777216.0: 1, 3322413056.0: 1, 3322437632.0:...  \n",
       "1                  138846  {16777471: 1, 3322415103: 1, 3322445823: 1, 33...  \n",
       "2                     235  {'United States': 46868, 'Canada': 6989, 'Russ...  "
      ]
     },
     "execution_count": 8,
     "metadata": {},
     "output_type": "execute_result"
    }
   ],
   "source": [
    "column_summary(df_IpAddress_to_Country)"
   ]
  },
  {
   "cell_type": "code",
   "execution_count": 9,
   "metadata": {},
   "outputs": [
    {
     "data": {
      "text/html": [
       "<div>\n",
       "<style scoped>\n",
       "    .dataframe tbody tr th:only-of-type {\n",
       "        vertical-align: middle;\n",
       "    }\n",
       "\n",
       "    .dataframe tbody tr th {\n",
       "        vertical-align: top;\n",
       "    }\n",
       "\n",
       "    .dataframe thead th {\n",
       "        text-align: right;\n",
       "    }\n",
       "</style>\n",
       "<table border=\"1\" class=\"dataframe\">\n",
       "  <thead>\n",
       "    <tr style=\"text-align: right;\">\n",
       "      <th></th>\n",
       "      <th>col_name</th>\n",
       "      <th>col_dtype</th>\n",
       "      <th>num_of_nulls</th>\n",
       "      <th>num_of_non_nulls</th>\n",
       "      <th>num_of_distinct_values</th>\n",
       "      <th>distinct_values_counts</th>\n",
       "    </tr>\n",
       "  </thead>\n",
       "  <tbody>\n",
       "    <tr>\n",
       "      <th>0</th>\n",
       "      <td>user_id</td>\n",
       "      <td>int64</td>\n",
       "      <td>0</td>\n",
       "      <td>151112</td>\n",
       "      <td>151112</td>\n",
       "      <td>{22058: 1, 330367: 1, 265670: 1, 293466: 1, 19...</td>\n",
       "    </tr>\n",
       "    <tr>\n",
       "      <th>1</th>\n",
       "      <td>signup_time</td>\n",
       "      <td>object</td>\n",
       "      <td>0</td>\n",
       "      <td>151112</td>\n",
       "      <td>151112</td>\n",
       "      <td>{'2015-02-24 22:55:49': 1, '2015-03-29 18:25:3...</td>\n",
       "    </tr>\n",
       "    <tr>\n",
       "      <th>2</th>\n",
       "      <td>purchase_time</td>\n",
       "      <td>object</td>\n",
       "      <td>0</td>\n",
       "      <td>151112</td>\n",
       "      <td>150679</td>\n",
       "      <td>{'2015-06-08 09:42:04': 3, '2015-07-17 23:22:5...</td>\n",
       "    </tr>\n",
       "    <tr>\n",
       "      <th>3</th>\n",
       "      <td>purchase_value</td>\n",
       "      <td>int64</td>\n",
       "      <td>0</td>\n",
       "      <td>151112</td>\n",
       "      <td>122</td>\n",
       "      <td>{28: 3328, 27: 3196, 32: 3174, 24: 3152, 26: 3...</td>\n",
       "    </tr>\n",
       "    <tr>\n",
       "      <th>4</th>\n",
       "      <td>device_id</td>\n",
       "      <td>object</td>\n",
       "      <td>0</td>\n",
       "      <td>151112</td>\n",
       "      <td>137956</td>\n",
       "      <td>{'CQTUVBYIWWWBC': 20, 'ITUMJCKWEYNDD': 20, 'EQ...</td>\n",
       "    </tr>\n",
       "    <tr>\n",
       "      <th>5</th>\n",
       "      <td>source</td>\n",
       "      <td>object</td>\n",
       "      <td>0</td>\n",
       "      <td>151112</td>\n",
       "      <td>3</td>\n",
       "      <td>{'SEO': 60615, 'Ads': 59881, 'Direct': 30616}</td>\n",
       "    </tr>\n",
       "    <tr>\n",
       "      <th>6</th>\n",
       "      <td>browser</td>\n",
       "      <td>object</td>\n",
       "      <td>0</td>\n",
       "      <td>151112</td>\n",
       "      <td>5</td>\n",
       "      <td>{'Chrome': 61432, 'IE': 36727, 'Safari': 24667...</td>\n",
       "    </tr>\n",
       "    <tr>\n",
       "      <th>7</th>\n",
       "      <td>sex</td>\n",
       "      <td>object</td>\n",
       "      <td>0</td>\n",
       "      <td>151112</td>\n",
       "      <td>2</td>\n",
       "      <td>{'M': 88293, 'F': 62819}</td>\n",
       "    </tr>\n",
       "    <tr>\n",
       "      <th>8</th>\n",
       "      <td>age</td>\n",
       "      <td>int64</td>\n",
       "      <td>0</td>\n",
       "      <td>151112</td>\n",
       "      <td>58</td>\n",
       "      <td>{32: 6666, 31: 6591, 33: 6567, 30: 6392, 29: 6...</td>\n",
       "    </tr>\n",
       "    <tr>\n",
       "      <th>9</th>\n",
       "      <td>ip_address</td>\n",
       "      <td>float64</td>\n",
       "      <td>0</td>\n",
       "      <td>151112</td>\n",
       "      <td>143512</td>\n",
       "      <td>{1502818419.73176: 20, 576060872.527378: 20, 3...</td>\n",
       "    </tr>\n",
       "    <tr>\n",
       "      <th>10</th>\n",
       "      <td>class</td>\n",
       "      <td>int64</td>\n",
       "      <td>0</td>\n",
       "      <td>151112</td>\n",
       "      <td>2</td>\n",
       "      <td>{0: 136961, 1: 14151}</td>\n",
       "    </tr>\n",
       "  </tbody>\n",
       "</table>\n",
       "</div>"
      ],
      "text/plain": [
       "          col_name col_dtype  num_of_nulls  num_of_non_nulls  \\\n",
       "0          user_id     int64             0            151112   \n",
       "1      signup_time    object             0            151112   \n",
       "2    purchase_time    object             0            151112   \n",
       "3   purchase_value     int64             0            151112   \n",
       "4        device_id    object             0            151112   \n",
       "5           source    object             0            151112   \n",
       "6          browser    object             0            151112   \n",
       "7              sex    object             0            151112   \n",
       "8              age     int64             0            151112   \n",
       "9       ip_address   float64             0            151112   \n",
       "10           class     int64             0            151112   \n",
       "\n",
       "    num_of_distinct_values                             distinct_values_counts  \n",
       "0                   151112  {22058: 1, 330367: 1, 265670: 1, 293466: 1, 19...  \n",
       "1                   151112  {'2015-02-24 22:55:49': 1, '2015-03-29 18:25:3...  \n",
       "2                   150679  {'2015-06-08 09:42:04': 3, '2015-07-17 23:22:5...  \n",
       "3                      122  {28: 3328, 27: 3196, 32: 3174, 24: 3152, 26: 3...  \n",
       "4                   137956  {'CQTUVBYIWWWBC': 20, 'ITUMJCKWEYNDD': 20, 'EQ...  \n",
       "5                        3      {'SEO': 60615, 'Ads': 59881, 'Direct': 30616}  \n",
       "6                        5  {'Chrome': 61432, 'IE': 36727, 'Safari': 24667...  \n",
       "7                        2                           {'M': 88293, 'F': 62819}  \n",
       "8                       58  {32: 6666, 31: 6591, 33: 6567, 30: 6392, 29: 6...  \n",
       "9                   143512  {1502818419.73176: 20, 576060872.527378: 20, 3...  \n",
       "10                       2                              {0: 136961, 1: 14151}  "
      ]
     },
     "execution_count": 9,
     "metadata": {},
     "output_type": "execute_result"
    }
   ],
   "source": [
    "column_summary(df_fraud_data)"
   ]
  },
  {
   "cell_type": "code",
   "execution_count": 10,
   "metadata": {},
   "outputs": [
    {
     "data": {
      "text/plain": [
       "Index(['user_id', 'signup_time', 'purchase_time', 'purchase_value',\n",
       "       'device_id', 'source', 'browser', 'sex', 'age', 'ip_address', 'class'],\n",
       "      dtype='object')"
      ]
     },
     "execution_count": 10,
     "metadata": {},
     "output_type": "execute_result"
    }
   ],
   "source": [
    "df_fraud_data.columns"
   ]
  },
  {
   "cell_type": "markdown",
   "metadata": {},
   "source": [
    "# 3 Managing Missing Values"
   ]
  },
  {
   "cell_type": "code",
   "execution_count": 11,
   "metadata": {},
   "outputs": [
    {
     "data": {
      "text/html": [
       "<div>\n",
       "<style scoped>\n",
       "    .dataframe tbody tr th:only-of-type {\n",
       "        vertical-align: middle;\n",
       "    }\n",
       "\n",
       "    .dataframe tbody tr th {\n",
       "        vertical-align: top;\n",
       "    }\n",
       "\n",
       "    .dataframe thead th {\n",
       "        text-align: right;\n",
       "    }\n",
       "</style>\n",
       "<table border=\"1\" class=\"dataframe\">\n",
       "  <thead>\n",
       "    <tr style=\"text-align: right;\">\n",
       "      <th></th>\n",
       "      <th>Missing Values</th>\n",
       "      <th>% of Total Values</th>\n",
       "    </tr>\n",
       "  </thead>\n",
       "  <tbody>\n",
       "  </tbody>\n",
       "</table>\n",
       "</div>"
      ],
      "text/plain": [
       "Empty DataFrame\n",
       "Columns: [Missing Values, % of Total Values]\n",
       "Index: []"
      ]
     },
     "execution_count": 11,
     "metadata": {},
     "output_type": "execute_result"
    }
   ],
   "source": [
    "missing_values_table(df_fraud_data)"
   ]
  },
  {
   "cell_type": "code",
   "execution_count": 12,
   "metadata": {},
   "outputs": [
    {
     "data": {
      "text/html": [
       "<div>\n",
       "<style scoped>\n",
       "    .dataframe tbody tr th:only-of-type {\n",
       "        vertical-align: middle;\n",
       "    }\n",
       "\n",
       "    .dataframe tbody tr th {\n",
       "        vertical-align: top;\n",
       "    }\n",
       "\n",
       "    .dataframe thead th {\n",
       "        text-align: right;\n",
       "    }\n",
       "</style>\n",
       "<table border=\"1\" class=\"dataframe\">\n",
       "  <thead>\n",
       "    <tr style=\"text-align: right;\">\n",
       "      <th></th>\n",
       "      <th>Missing Values</th>\n",
       "      <th>% of Total Values</th>\n",
       "    </tr>\n",
       "  </thead>\n",
       "  <tbody>\n",
       "  </tbody>\n",
       "</table>\n",
       "</div>"
      ],
      "text/plain": [
       "Empty DataFrame\n",
       "Columns: [Missing Values, % of Total Values]\n",
       "Index: []"
      ]
     },
     "execution_count": 12,
     "metadata": {},
     "output_type": "execute_result"
    }
   ],
   "source": [
    "missing_values_table(df_IpAddress_to_Country)"
   ]
  },
  {
   "cell_type": "code",
   "execution_count": 13,
   "metadata": {},
   "outputs": [
    {
     "data": {
      "text/html": [
       "<div>\n",
       "<style scoped>\n",
       "    .dataframe tbody tr th:only-of-type {\n",
       "        vertical-align: middle;\n",
       "    }\n",
       "\n",
       "    .dataframe tbody tr th {\n",
       "        vertical-align: top;\n",
       "    }\n",
       "\n",
       "    .dataframe thead th {\n",
       "        text-align: right;\n",
       "    }\n",
       "</style>\n",
       "<table border=\"1\" class=\"dataframe\">\n",
       "  <thead>\n",
       "    <tr style=\"text-align: right;\">\n",
       "      <th></th>\n",
       "      <th>Missing Values</th>\n",
       "      <th>% of Total Values</th>\n",
       "    </tr>\n",
       "  </thead>\n",
       "  <tbody>\n",
       "  </tbody>\n",
       "</table>\n",
       "</div>"
      ],
      "text/plain": [
       "Empty DataFrame\n",
       "Columns: [Missing Values, % of Total Values]\n",
       "Index: []"
      ]
     },
     "execution_count": 13,
     "metadata": {},
     "output_type": "execute_result"
    }
   ],
   "source": [
    "missing_values_table(df_creditcard)"
   ]
  },
  {
   "cell_type": "markdown",
   "metadata": {},
   "source": [
    "## Insight: # 3. Managing Missing Values\n",
    "\n",
    "After analyzing the missing values in each dataset, I found that none of the data frames have any missing values. Here are the details:\n",
    "\n",
    "- **df_fraud_data**: No missing values.\n",
    "- **df_IpAddress_to_Country**: No missing values.\n",
    "- **df_creditcard**: No missing values.\n",
    "\n",
    "This ensures that our datasets are complete and ready for further analysis."
   ]
  },
  {
   "cell_type": "markdown",
   "metadata": {},
   "source": [
    "# 4. Data Cleaning"
   ]
  },
  {
   "cell_type": "markdown",
   "metadata": {},
   "source": [
    "### Removing Duplicate Entries"
   ]
  },
  {
   "cell_type": "code",
   "execution_count": 14,
   "metadata": {},
   "outputs": [
    {
     "name": "stdout",
     "output_type": "stream",
     "text": [
      "Number of duplicate rows in df_fraud_data: 0 fraud data\n"
     ]
    }
   ],
   "source": [
    "df_fraud_data.duplicated().sum()\n",
    "print(f\"Number of duplicate rows in df_fraud_data: {df_fraud_data.duplicated().sum()} fraud data\")"
   ]
  },
  {
   "cell_type": "code",
   "execution_count": 15,
   "metadata": {},
   "outputs": [
    {
     "name": "stdout",
     "output_type": "stream",
     "text": [
      "Number of duplicate rows in df_fraud_data: 1081 credit card data\n"
     ]
    }
   ],
   "source": [
    "df_creditcard.duplicated().sum()\n",
    "print(f\"Number of duplicate rows in df_fraud_data: {df_creditcard.duplicated().sum()} credit card data\")"
   ]
  },
  {
   "cell_type": "markdown",
   "metadata": {},
   "source": [
    "### Dropping duplicate entries of credit card data"
   ]
  },
  {
   "cell_type": "code",
   "execution_count": 16,
   "metadata": {},
   "outputs": [],
   "source": [
    "df_creditcard = df_creditcard.drop_duplicates()"
   ]
  },
  {
   "cell_type": "code",
   "execution_count": 17,
   "metadata": {},
   "outputs": [
    {
     "name": "stdout",
     "output_type": "stream",
     "text": [
      "Number of duplicate rows in df_fraud_data: 0 IpAddress to Country data\n"
     ]
    }
   ],
   "source": [
    "df_IpAddress_to_Country.duplicated().sum()\n",
    "print(f\"Number of duplicate rows in df_fraud_data: {df_IpAddress_to_Country.duplicated().sum()} IpAddress to Country data\")"
   ]
  },
  {
   "cell_type": "markdown",
   "metadata": {},
   "source": [
    "## Insight: Duplicate Entries\n",
    "\n",
    "- **df_fraud_data**: 0 duplicate rows.\n",
    "- **df_creditcard**: 1081 Duplicated rows before removing duplicates and 0 duplicate rows after dropping duplicates.\n",
    "- **df_IpAddress_to_Country**: 0 duplicate rows.\n",
    "\n",
    "All datasets are free of duplicate entries, ensuring data integrity for further analysis.\n"
   ]
  },
  {
   "cell_type": "markdown",
   "metadata": {},
   "source": [
    "## Correcting data types\n"
   ]
  },
  {
   "cell_type": "code",
   "execution_count": 18,
   "metadata": {},
   "outputs": [],
   "source": [
    "df_creditcard['Time'] = pd.to_datetime(df_creditcard['Time'], unit='s')"
   ]
  },
  {
   "cell_type": "code",
   "execution_count": 19,
   "metadata": {},
   "outputs": [],
   "source": [
    "df_IpAddress_to_Country['lower_bound_ip_address'] = df_IpAddress_to_Country['lower_bound_ip_address'].astype('int64')"
   ]
  },
  {
   "cell_type": "code",
   "execution_count": 20,
   "metadata": {},
   "outputs": [],
   "source": [
    "import ipaddress\n",
    "\n",
    "df_IpAddress_to_Country['lower_bound_ip_address'] = df_IpAddress_to_Country['lower_bound_ip_address'].apply(lambda x: ipaddress.ip_address(x))"
   ]
  },
  {
   "cell_type": "code",
   "execution_count": 21,
   "metadata": {},
   "outputs": [],
   "source": [
    "import ipaddress\n",
    "\n",
    "df_IpAddress_to_Country['upper_bound_ip_address'] = df_IpAddress_to_Country['upper_bound_ip_address'].apply(lambda x: ipaddress.ip_address(x))"
   ]
  },
  {
   "cell_type": "code",
   "execution_count": 22,
   "metadata": {},
   "outputs": [],
   "source": [
    "df_IpAddress_to_Country['country'] = df_IpAddress_to_Country['country'].astype('str')"
   ]
  },
  {
   "cell_type": "code",
   "execution_count": 23,
   "metadata": {},
   "outputs": [],
   "source": [
    "df_fraud_data['signup_time'] = pd.to_datetime(df_fraud_data['signup_time'])"
   ]
  },
  {
   "cell_type": "code",
   "execution_count": 24,
   "metadata": {},
   "outputs": [],
   "source": [
    "df_fraud_data['purchase_time'] = pd.to_datetime(df_fraud_data['purchase_time'])"
   ]
  },
  {
   "cell_type": "code",
   "execution_count": 25,
   "metadata": {},
   "outputs": [],
   "source": [
    "to_str = ['device_id', 'source', 'browser', 'sex']"
   ]
  },
  {
   "cell_type": "code",
   "execution_count": 26,
   "metadata": {},
   "outputs": [],
   "source": [
    "for column in to_str:\n",
    "    df_fraud_data[column] = df_fraud_data[column].astype('str')"
   ]
  },
  {
   "cell_type": "code",
   "execution_count": 27,
   "metadata": {},
   "outputs": [],
   "source": [
    "import ipaddress\n",
    "\n",
    "df_fraud_data['ip_address'] = df_fraud_data['ip_address'].apply(lambda x: ipaddress.ip_address(int(x)))"
   ]
  },
  {
   "cell_type": "markdown",
   "metadata": {},
   "source": [
    "\n",
    "## Insight: Correcting Data Types\n",
    "\n",
    "I performed the following type conversions for consistency:\n",
    "\n",
    "- **df_creditcard**: 'Time' to datetime.\n",
    "- **df_IpAddress_to_Country**: \n",
    "    - 'lower_bound_ip_address' and 'upper_bound_ip_address' to IP address format.\n",
    "    - 'country' to string.\n",
    "- **df_fraud_data**:\n",
    "    - 'signup_time' and 'purchase_time' to datetime.\n",
    "    - 'device_id', 'source', 'browser', and 'sex' to string.\n",
    "    - 'ip_address' to IP address format.\n",
    "\n",
    "These conversions ensure accurate data analysis and manipulation.\n"
   ]
  },
  {
   "cell_type": "markdown",
   "metadata": {},
   "source": [
    "# 5. Exploratory Data Analysis (EDA)"
   ]
  },
  {
   "cell_type": "markdown",
   "metadata": {},
   "source": [
    "## Univariate Analysis"
   ]
  },
  {
   "cell_type": "code",
   "execution_count": 28,
   "metadata": {},
   "outputs": [],
   "source": [
    "univariate_columns_credit_card = ['Amount', 'Class']\n",
    "univariate_columns_IpAddress_to_Country = ['country']\n",
    "univariate_columns_fraud_data = ['purchase_value', 'source', 'browser', 'class', 'age', 'sex']"
   ]
  },
  {
   "cell_type": "code",
   "execution_count": 29,
   "metadata": {},
   "outputs": [
    {
     "data": {
      "image/png": "[encoded data removed]",
      "text/plain": [
       "<Figure size 1000x500 with 1 Axes>"
      ]
     },
     "metadata": {},
     "output_type": "display_data"
    },
    {
     "data": {
      "image/png": "[encoded data removed]",
      "text/plain": [
       "<Figure size 1000x500 with 1 Axes>"
      ]
     },
     "metadata": {},
     "output_type": "display_data"
    },
    {
     "data": {
      "image/png": "[encoded data removed]",
      "text/plain": [
       "<Figure size 1000x500 with 1 Axes>"
      ]
     },
     "metadata": {},
     "output_type": "display_data"
    },
    {
     "data": {
      "image/png": "[encoded data removed]",
      "text/plain": [
       "<Figure size 1000x500 with 1 Axes>"
      ]
     },
     "metadata": {},
     "output_type": "display_data"
    },
    {
     "data": {
      "image/png": "[encoded data removed]",
      "text/plain": [
       "<Figure size 1000x500 with 1 Axes>"
      ]
     },
     "metadata": {},
     "output_type": "display_data"
    },
    {
     "data": {
      "image/png": "[encoded data removed]",
      "text/plain": [
       "<Figure size 1000x500 with 1 Axes>"
      ]
     },
     "metadata": {},
     "output_type": "display_data"
    }
   ],
   "source": [
    "plot_univariate_analysis(df_fraud_data, univariate_columns_fraud_data)"
   ]
  },
  {
   "cell_type": "code",
   "execution_count": 30,
   "metadata": {},
   "outputs": [
    {
     "data": {
      "image/png": "[encoded data removed]",
      "text/plain": [
       "<Figure size 1000x500 with 1 Axes>"
      ]
     },
     "metadata": {},
     "output_type": "display_data"
    },
    {
     "data": {
      "image/png": "[encoded data removed]",
      "text/plain": [
       "<Figure size 1000x500 with 1 Axes>"
      ]
     },
     "metadata": {},
     "output_type": "display_data"
    }
   ],
   "source": [
    "plot_univariate_analysis(df_creditcard, univariate_columns_credit_card)"
   ]
  },
  {
   "cell_type": "code",
   "execution_count": 31,
   "metadata": {},
   "outputs": [
    {
     "data": {
      "image/png": "[encoded data removed]",
      "text/plain": [
       "<Figure size 1000x500 with 1 Axes>"
      ]
     },
     "metadata": {},
     "output_type": "display_data"
    }
   ],
   "source": [
    "plot_univariate_analysis(df_IpAddress_to_Country, univariate_columns_IpAddress_to_Country)"
   ]
  },
  {
   "cell_type": "markdown",
   "metadata": {},
   "source": [
    "## Bivariate Analysis"
   ]
  },
  {
   "cell_type": "code",
   "execution_count": 32,
   "metadata": {},
   "outputs": [],
   "source": [
    "amount_class = ['Amount', 'Class']"
   ]
  },
  {
   "cell_type": "code",
   "execution_count": 33,
   "metadata": {},
   "outputs": [],
   "source": [
    "class_sex = ['class', 'sex']"
   ]
  },
  {
   "cell_type": "code",
   "execution_count": 34,
   "metadata": {},
   "outputs": [],
   "source": [
    "class_age = ['class', 'age']"
   ]
  },
  {
   "cell_type": "code",
   "execution_count": 35,
   "metadata": {},
   "outputs": [],
   "source": [
    "class_source = ['class', 'source']"
   ]
  },
  {
   "cell_type": "code",
   "execution_count": 36,
   "metadata": {},
   "outputs": [],
   "source": [
    "class_purchase_value = ['class', 'purchase_value']"
   ]
  },
  {
   "cell_type": "code",
   "execution_count": 37,
   "metadata": {},
   "outputs": [
    {
     "data": {
      "image/png": "[encoded data removed]",
      "text/plain": [
       "<Figure size 1000x500 with 1 Axes>"
      ]
     },
     "metadata": {},
     "output_type": "display_data"
    },
    {
     "data": {
      "text/plain": [
       "[]"
      ]
     },
     "execution_count": 37,
     "metadata": {},
     "output_type": "execute_result"
    }
   ],
   "source": [
    "plot_bivariate_analysis(df_creditcard, amount_class)"
   ]
  },
  {
   "cell_type": "code",
   "execution_count": 38,
   "metadata": {},
   "outputs": [
    {
     "data": {
      "image/png": "[encoded data removed]",
      "text/plain": [
       "<Figure size 1000x500 with 1 Axes>"
      ]
     },
     "metadata": {},
     "output_type": "display_data"
    },
    {
     "data": {
      "text/plain": [
       "[]"
      ]
     },
     "execution_count": 38,
     "metadata": {},
     "output_type": "execute_result"
    }
   ],
   "source": [
    "plot_bivariate_analysis(df_fraud_data, class_sex)"
   ]
  },
  {
   "cell_type": "code",
   "execution_count": 39,
   "metadata": {},
   "outputs": [
    {
     "data": {
      "image/png": "[encoded data removed]",
      "text/plain": [
       "<Figure size 1000x500 with 1 Axes>"
      ]
     },
     "metadata": {},
     "output_type": "display_data"
    },
    {
     "data": {
      "text/plain": [
       "[]"
      ]
     },
     "execution_count": 39,
     "metadata": {},
     "output_type": "execute_result"
    }
   ],
   "source": [
    "plot_bivariate_analysis(df_fraud_data, class_age)"
   ]
  },
  {
   "cell_type": "code",
   "execution_count": 40,
   "metadata": {},
   "outputs": [
    {
     "data": {
      "image/png": "[encoded data removed]",
      "text/plain": [
       "<Figure size 1000x500 with 1 Axes>"
      ]
     },
     "metadata": {},
     "output_type": "display_data"
    },
    {
     "data": {
      "text/plain": [
       "[]"
      ]
     },
     "execution_count": 40,
     "metadata": {},
     "output_type": "execute_result"
    }
   ],
   "source": [
    "plot_bivariate_analysis(df_fraud_data, class_source)"
   ]
  },
  {
   "cell_type": "code",
   "execution_count": 41,
   "metadata": {},
   "outputs": [
    {
     "data": {
      "image/png": "[encoded data removed]",
      "text/plain": [
       "<Figure size 1000x500 with 1 Axes>"
      ]
     },
     "metadata": {},
     "output_type": "display_data"
    },
    {
     "data": {
      "text/plain": [
       "[]"
      ]
     },
     "execution_count": 41,
     "metadata": {},
     "output_type": "execute_result"
    }
   ],
   "source": [
    "plot_bivariate_analysis(df_fraud_data, class_purchase_value)"
   ]
  },
  {
   "cell_type": "markdown",
   "metadata": {},
   "source": [
    "# 6. Geolocation Analysis"
   ]
  },
  {
   "cell_type": "markdown",
   "metadata": {},
   "source": [
    "### Converting IP Addresses to Integer Format"
   ]
  },
  {
   "cell_type": "markdown",
   "metadata": {},
   "source": [
    "### Merging `Fraud_Data.csv` with `IpAddress_to_Country.csv`"
   ]
  },
  {
   "cell_type": "code",
   "execution_count": 42,
   "metadata": {},
   "outputs": [
    {
     "data": {
      "text/html": [
       "<div>\n",
       "<style scoped>\n",
       "    .dataframe tbody tr th:only-of-type {\n",
       "        vertical-align: middle;\n",
       "    }\n",
       "\n",
       "    .dataframe tbody tr th {\n",
       "        vertical-align: top;\n",
       "    }\n",
       "\n",
       "    .dataframe thead th {\n",
       "        text-align: right;\n",
       "    }\n",
       "</style>\n",
       "<table border=\"1\" class=\"dataframe\">\n",
       "  <thead>\n",
       "    <tr style=\"text-align: right;\">\n",
       "      <th></th>\n",
       "      <th>user_id</th>\n",
       "      <th>signup_time</th>\n",
       "      <th>purchase_time</th>\n",
       "      <th>purchase_value</th>\n",
       "      <th>device_id</th>\n",
       "      <th>source</th>\n",
       "      <th>browser</th>\n",
       "      <th>sex</th>\n",
       "      <th>age</th>\n",
       "      <th>ip_address</th>\n",
       "      <th>class</th>\n",
       "    </tr>\n",
       "  </thead>\n",
       "  <tbody>\n",
       "    <tr>\n",
       "      <th>0</th>\n",
       "      <td>22058</td>\n",
       "      <td>2015-02-24 22:55:49</td>\n",
       "      <td>2015-04-18 02:47:11</td>\n",
       "      <td>34</td>\n",
       "      <td>QVPSPJUOCKZAR</td>\n",
       "      <td>SEO</td>\n",
       "      <td>Chrome</td>\n",
       "      <td>M</td>\n",
       "      <td>39</td>\n",
       "      <td>43.173.1.96</td>\n",
       "      <td>0</td>\n",
       "    </tr>\n",
       "    <tr>\n",
       "      <th>1</th>\n",
       "      <td>333320</td>\n",
       "      <td>2015-06-07 20:39:50</td>\n",
       "      <td>2015-06-08 01:38:54</td>\n",
       "      <td>16</td>\n",
       "      <td>EOGFQPIZPYXFZ</td>\n",
       "      <td>Ads</td>\n",
       "      <td>Chrome</td>\n",
       "      <td>F</td>\n",
       "      <td>53</td>\n",
       "      <td>20.225.83.219</td>\n",
       "      <td>0</td>\n",
       "    </tr>\n",
       "    <tr>\n",
       "      <th>2</th>\n",
       "      <td>1359</td>\n",
       "      <td>2015-01-01 18:52:44</td>\n",
       "      <td>2015-01-01 18:52:45</td>\n",
       "      <td>15</td>\n",
       "      <td>YSSKYOSJHPPLJ</td>\n",
       "      <td>SEO</td>\n",
       "      <td>Opera</td>\n",
       "      <td>M</td>\n",
       "      <td>53</td>\n",
       "      <td>156.64.132.28</td>\n",
       "      <td>1</td>\n",
       "    </tr>\n",
       "    <tr>\n",
       "      <th>3</th>\n",
       "      <td>150084</td>\n",
       "      <td>2015-04-28 21:13:25</td>\n",
       "      <td>2015-05-04 13:54:50</td>\n",
       "      <td>44</td>\n",
       "      <td>ATGTXKYKUDUQN</td>\n",
       "      <td>SEO</td>\n",
       "      <td>Safari</td>\n",
       "      <td>M</td>\n",
       "      <td>41</td>\n",
       "      <td>228.234.6.235</td>\n",
       "      <td>0</td>\n",
       "    </tr>\n",
       "    <tr>\n",
       "      <th>4</th>\n",
       "      <td>221365</td>\n",
       "      <td>2015-07-21 07:09:52</td>\n",
       "      <td>2015-09-09 18:40:53</td>\n",
       "      <td>39</td>\n",
       "      <td>NAUITBZFJKHWW</td>\n",
       "      <td>Ads</td>\n",
       "      <td>Safari</td>\n",
       "      <td>M</td>\n",
       "      <td>45</td>\n",
       "      <td>24.197.75.141</td>\n",
       "      <td>0</td>\n",
       "    </tr>\n",
       "  </tbody>\n",
       "</table>\n",
       "</div>"
      ],
      "text/plain": [
       "   user_id         signup_time       purchase_time  purchase_value  \\\n",
       "0    22058 2015-02-24 22:55:49 2015-04-18 02:47:11              34   \n",
       "1   333320 2015-06-07 20:39:50 2015-06-08 01:38:54              16   \n",
       "2     1359 2015-01-01 18:52:44 2015-01-01 18:52:45              15   \n",
       "3   150084 2015-04-28 21:13:25 2015-05-04 13:54:50              44   \n",
       "4   221365 2015-07-21 07:09:52 2015-09-09 18:40:53              39   \n",
       "\n",
       "       device_id source browser sex  age     ip_address  class  \n",
       "0  QVPSPJUOCKZAR    SEO  Chrome   M   39    43.173.1.96      0  \n",
       "1  EOGFQPIZPYXFZ    Ads  Chrome   F   53  20.225.83.219      0  \n",
       "2  YSSKYOSJHPPLJ    SEO   Opera   M   53  156.64.132.28      1  \n",
       "3  ATGTXKYKUDUQN    SEO  Safari   M   41  228.234.6.235      0  \n",
       "4  NAUITBZFJKHWW    Ads  Safari   M   45  24.197.75.141      0  "
      ]
     },
     "execution_count": 42,
     "metadata": {},
     "output_type": "execute_result"
    }
   ],
   "source": [
    "df_fraud_data.head()"
   ]
  },
  {
   "cell_type": "code",
   "execution_count": 43,
   "metadata": {},
   "outputs": [
    {
     "data": {
      "text/html": [
       "<div>\n",
       "<style scoped>\n",
       "    .dataframe tbody tr th:only-of-type {\n",
       "        vertical-align: middle;\n",
       "    }\n",
       "\n",
       "    .dataframe tbody tr th {\n",
       "        vertical-align: top;\n",
       "    }\n",
       "\n",
       "    .dataframe thead th {\n",
       "        text-align: right;\n",
       "    }\n",
       "</style>\n",
       "<table border=\"1\" class=\"dataframe\">\n",
       "  <thead>\n",
       "    <tr style=\"text-align: right;\">\n",
       "      <th></th>\n",
       "      <th>lower_bound_ip_address</th>\n",
       "      <th>upper_bound_ip_address</th>\n",
       "      <th>country</th>\n",
       "    </tr>\n",
       "  </thead>\n",
       "  <tbody>\n",
       "    <tr>\n",
       "      <th>0</th>\n",
       "      <td>1.0.0.0</td>\n",
       "      <td>1.0.0.255</td>\n",
       "      <td>Australia</td>\n",
       "    </tr>\n",
       "    <tr>\n",
       "      <th>1</th>\n",
       "      <td>1.0.1.0</td>\n",
       "      <td>1.0.1.255</td>\n",
       "      <td>China</td>\n",
       "    </tr>\n",
       "    <tr>\n",
       "      <th>2</th>\n",
       "      <td>1.0.2.0</td>\n",
       "      <td>1.0.3.255</td>\n",
       "      <td>China</td>\n",
       "    </tr>\n",
       "    <tr>\n",
       "      <th>3</th>\n",
       "      <td>1.0.4.0</td>\n",
       "      <td>1.0.7.255</td>\n",
       "      <td>Australia</td>\n",
       "    </tr>\n",
       "    <tr>\n",
       "      <th>4</th>\n",
       "      <td>1.0.8.0</td>\n",
       "      <td>1.0.15.255</td>\n",
       "      <td>China</td>\n",
       "    </tr>\n",
       "  </tbody>\n",
       "</table>\n",
       "</div>"
      ],
      "text/plain": [
       "  lower_bound_ip_address upper_bound_ip_address    country\n",
       "0                1.0.0.0              1.0.0.255  Australia\n",
       "1                1.0.1.0              1.0.1.255      China\n",
       "2                1.0.2.0              1.0.3.255      China\n",
       "3                1.0.4.0              1.0.7.255  Australia\n",
       "4                1.0.8.0             1.0.15.255      China"
      ]
     },
     "execution_count": 43,
     "metadata": {},
     "output_type": "execute_result"
    }
   ],
   "source": [
    "df_IpAddress_to_Country.head()"
   ]
  },
  {
   "cell_type": "code",
   "execution_count": 44,
   "metadata": {},
   "outputs": [],
   "source": [
    "merged_df = merge_datasets_for_geolocation(df_fraud_data, df_IpAddress_to_Country)"
   ]
  },
  {
   "cell_type": "markdown",
   "metadata": {},
   "source": [
    "### Saving the Merged Data"
   ]
  },
  {
   "cell_type": "code",
   "execution_count": 45,
   "metadata": {},
   "outputs": [],
   "source": [
    "merged_df.to_csv('../data/fraud_ip_to_country_merged_.csv', index=False)"
   ]
  },
  {
   "cell_type": "markdown",
   "metadata": {},
   "source": [
    "# 7. Feature Engineering"
   ]
  },
  {
   "cell_type": "markdown",
   "metadata": {},
   "source": [
    "### Feature Engineering for Transaction frequency and velocity"
   ]
  },
  {
   "cell_type": "code",
   "execution_count": 46,
   "metadata": {},
   "outputs": [],
   "source": [
    "\n",
    "# Convert `signup_time` and `purchase_time` to datetime format\n",
    "df_fraud_data['signup_time'] = pd.to_datetime(df_fraud_data['signup_time'])\n",
    "df_fraud_data['purchase_time'] = pd.to_datetime(df_fraud_data['purchase_time'])\n",
    "\n",
    "# Calculate transaction velocity (time difference between purchase_time and signup_time in hours)\n",
    "df_fraud_data['transaction_velocity_hours'] = (df_fraud_data['purchase_time'] - df_fraud_data['signup_time']).dt.total_seconds() / 3600"
   ]
  },
  {
   "cell_type": "code",
   "execution_count": 47,
   "metadata": {},
   "outputs": [],
   "source": [
    "# Convert `signup_time` and `purchase_time` to datetime\n",
    "df_fraud_data['signup_time'] = pd.to_datetime(df_fraud_data['signup_time'])\n",
    "df_fraud_data['purchase_time'] = pd.to_datetime(df_fraud_data['purchase_time'])\n",
    "\n",
    "# Extract hour of day and day of week from `purchase_time`\n",
    "df_fraud_data['hour_of_day'] = df_fraud_data['purchase_time'].dt.hour\n",
    "df_fraud_data['day_of_week'] = df_fraud_data['purchase_time'].dt.dayofweek"
   ]
  },
  {
   "cell_type": "code",
   "execution_count": 48,
   "metadata": {},
   "outputs": [
    {
     "data": {
      "text/html": [
       "<div>\n",
       "<style scoped>\n",
       "    .dataframe tbody tr th:only-of-type {\n",
       "        vertical-align: middle;\n",
       "    }\n",
       "\n",
       "    .dataframe tbody tr th {\n",
       "        vertical-align: top;\n",
       "    }\n",
       "\n",
       "    .dataframe thead th {\n",
       "        text-align: right;\n",
       "    }\n",
       "</style>\n",
       "<table border=\"1\" class=\"dataframe\">\n",
       "  <thead>\n",
       "    <tr style=\"text-align: right;\">\n",
       "      <th></th>\n",
       "      <th>user_id</th>\n",
       "      <th>signup_time</th>\n",
       "      <th>purchase_time</th>\n",
       "      <th>purchase_value</th>\n",
       "      <th>device_id</th>\n",
       "      <th>source</th>\n",
       "      <th>browser</th>\n",
       "      <th>sex</th>\n",
       "      <th>age</th>\n",
       "      <th>ip_address</th>\n",
       "      <th>class</th>\n",
       "      <th>ip_address_int</th>\n",
       "      <th>transaction_velocity_hours</th>\n",
       "      <th>hour_of_day</th>\n",
       "      <th>day_of_week</th>\n",
       "    </tr>\n",
       "  </thead>\n",
       "  <tbody>\n",
       "    <tr>\n",
       "      <th>0</th>\n",
       "      <td>22058</td>\n",
       "      <td>2015-02-24 22:55:49</td>\n",
       "      <td>2015-04-18 02:47:11</td>\n",
       "      <td>34</td>\n",
       "      <td>QVPSPJUOCKZAR</td>\n",
       "      <td>SEO</td>\n",
       "      <td>Chrome</td>\n",
       "      <td>M</td>\n",
       "      <td>39</td>\n",
       "      <td>43.173.1.96</td>\n",
       "      <td>0</td>\n",
       "      <td>732758368</td>\n",
       "      <td>1251.856111</td>\n",
       "      <td>2</td>\n",
       "      <td>5</td>\n",
       "    </tr>\n",
       "    <tr>\n",
       "      <th>1</th>\n",
       "      <td>333320</td>\n",
       "      <td>2015-06-07 20:39:50</td>\n",
       "      <td>2015-06-08 01:38:54</td>\n",
       "      <td>16</td>\n",
       "      <td>EOGFQPIZPYXFZ</td>\n",
       "      <td>Ads</td>\n",
       "      <td>Chrome</td>\n",
       "      <td>F</td>\n",
       "      <td>53</td>\n",
       "      <td>20.225.83.219</td>\n",
       "      <td>0</td>\n",
       "      <td>350311387</td>\n",
       "      <td>4.984444</td>\n",
       "      <td>1</td>\n",
       "      <td>0</td>\n",
       "    </tr>\n",
       "    <tr>\n",
       "      <th>2</th>\n",
       "      <td>1359</td>\n",
       "      <td>2015-01-01 18:52:44</td>\n",
       "      <td>2015-01-01 18:52:45</td>\n",
       "      <td>15</td>\n",
       "      <td>YSSKYOSJHPPLJ</td>\n",
       "      <td>SEO</td>\n",
       "      <td>Opera</td>\n",
       "      <td>M</td>\n",
       "      <td>53</td>\n",
       "      <td>156.64.132.28</td>\n",
       "      <td>1</td>\n",
       "      <td>2621473820</td>\n",
       "      <td>0.000278</td>\n",
       "      <td>18</td>\n",
       "      <td>3</td>\n",
       "    </tr>\n",
       "    <tr>\n",
       "      <th>3</th>\n",
       "      <td>150084</td>\n",
       "      <td>2015-04-28 21:13:25</td>\n",
       "      <td>2015-05-04 13:54:50</td>\n",
       "      <td>44</td>\n",
       "      <td>ATGTXKYKUDUQN</td>\n",
       "      <td>SEO</td>\n",
       "      <td>Safari</td>\n",
       "      <td>M</td>\n",
       "      <td>41</td>\n",
       "      <td>228.234.6.235</td>\n",
       "      <td>0</td>\n",
       "      <td>3840542443</td>\n",
       "      <td>136.690278</td>\n",
       "      <td>13</td>\n",
       "      <td>0</td>\n",
       "    </tr>\n",
       "    <tr>\n",
       "      <th>4</th>\n",
       "      <td>221365</td>\n",
       "      <td>2015-07-21 07:09:52</td>\n",
       "      <td>2015-09-09 18:40:53</td>\n",
       "      <td>39</td>\n",
       "      <td>NAUITBZFJKHWW</td>\n",
       "      <td>Ads</td>\n",
       "      <td>Safari</td>\n",
       "      <td>M</td>\n",
       "      <td>45</td>\n",
       "      <td>24.197.75.141</td>\n",
       "      <td>0</td>\n",
       "      <td>415583117</td>\n",
       "      <td>1211.516944</td>\n",
       "      <td>18</td>\n",
       "      <td>2</td>\n",
       "    </tr>\n",
       "  </tbody>\n",
       "</table>\n",
       "</div>"
      ],
      "text/plain": [
       "   user_id         signup_time       purchase_time  purchase_value  \\\n",
       "0    22058 2015-02-24 22:55:49 2015-04-18 02:47:11              34   \n",
       "1   333320 2015-06-07 20:39:50 2015-06-08 01:38:54              16   \n",
       "2     1359 2015-01-01 18:52:44 2015-01-01 18:52:45              15   \n",
       "3   150084 2015-04-28 21:13:25 2015-05-04 13:54:50              44   \n",
       "4   221365 2015-07-21 07:09:52 2015-09-09 18:40:53              39   \n",
       "\n",
       "       device_id source browser sex  age     ip_address  class  \\\n",
       "0  QVPSPJUOCKZAR    SEO  Chrome   M   39    43.173.1.96      0   \n",
       "1  EOGFQPIZPYXFZ    Ads  Chrome   F   53  20.225.83.219      0   \n",
       "2  YSSKYOSJHPPLJ    SEO   Opera   M   53  156.64.132.28      1   \n",
       "3  ATGTXKYKUDUQN    SEO  Safari   M   41  228.234.6.235      0   \n",
       "4  NAUITBZFJKHWW    Ads  Safari   M   45  24.197.75.141      0   \n",
       "\n",
       "   ip_address_int  transaction_velocity_hours  hour_of_day  day_of_week  \n",
       "0       732758368                 1251.856111            2            5  \n",
       "1       350311387                    4.984444            1            0  \n",
       "2      2621473820                    0.000278           18            3  \n",
       "3      3840542443                  136.690278           13            0  \n",
       "4       415583117                 1211.516944           18            2  "
      ]
     },
     "execution_count": 48,
     "metadata": {},
     "output_type": "execute_result"
    }
   ],
   "source": [
    "df_fraud_data.head()"
   ]
  },
  {
   "cell_type": "markdown",
   "metadata": {},
   "source": [
    "# 8. Normalization and Scaling"
   ]
  },
  {
   "cell_type": "code",
   "execution_count": 49,
   "metadata": {},
   "outputs": [],
   "source": [
    "# Encode categorical features\n",
    "fraud_data_encoded = encode_categorical_features(df_fraud_data)\n",
    "credit_card_encoded = encode_categorical_features(df_creditcard)"
   ]
  },
  {
   "cell_type": "code",
   "execution_count": 50,
   "metadata": {},
   "outputs": [],
   "source": [
    "# Normalize features\n",
    "fraud_data_final = normalize_features(fraud_data_encoded)\n",
    "credit_card_final = normalize_features(credit_card_encoded)"
   ]
  },
  {
   "cell_type": "code",
   "execution_count": 51,
   "metadata": {},
   "outputs": [
    {
     "data": {
      "text/html": [
       "<div>\n",
       "<style scoped>\n",
       "    .dataframe tbody tr th:only-of-type {\n",
       "        vertical-align: middle;\n",
       "    }\n",
       "\n",
       "    .dataframe tbody tr th {\n",
       "        vertical-align: top;\n",
       "    }\n",
       "\n",
       "    .dataframe thead th {\n",
       "        text-align: right;\n",
       "    }\n",
       "</style>\n",
       "<table border=\"1\" class=\"dataframe\">\n",
       "  <thead>\n",
       "    <tr style=\"text-align: right;\">\n",
       "      <th></th>\n",
       "      <th>user_id</th>\n",
       "      <th>signup_time</th>\n",
       "      <th>purchase_time</th>\n",
       "      <th>purchase_value</th>\n",
       "      <th>device_id</th>\n",
       "      <th>age</th>\n",
       "      <th>ip_address</th>\n",
       "      <th>class</th>\n",
       "      <th>ip_address_int</th>\n",
       "      <th>transaction_velocity_hours</th>\n",
       "      <th>hour_of_day</th>\n",
       "      <th>day_of_week</th>\n",
       "      <th>source_Direct</th>\n",
       "      <th>source_SEO</th>\n",
       "      <th>browser_FireFox</th>\n",
       "      <th>browser_IE</th>\n",
       "      <th>browser_Opera</th>\n",
       "      <th>browser_Safari</th>\n",
       "      <th>sex_M</th>\n",
       "    </tr>\n",
       "  </thead>\n",
       "  <tbody>\n",
       "    <tr>\n",
       "      <th>0</th>\n",
       "      <td>22058</td>\n",
       "      <td>2015-02-24 22:55:49</td>\n",
       "      <td>2015-04-18 02:47:11</td>\n",
       "      <td>-0.160204</td>\n",
       "      <td>QVPSPJUOCKZAR</td>\n",
       "      <td>0.679914</td>\n",
       "      <td>43.173.1.96</td>\n",
       "      <td>0</td>\n",
       "      <td>-1.136880</td>\n",
       "      <td>-0.136057</td>\n",
       "      <td>-1.377455</td>\n",
       "      <td>0.991020</td>\n",
       "      <td>False</td>\n",
       "      <td>True</td>\n",
       "      <td>False</td>\n",
       "      <td>False</td>\n",
       "      <td>False</td>\n",
       "      <td>False</td>\n",
       "      <td>True</td>\n",
       "    </tr>\n",
       "    <tr>\n",
       "      <th>1</th>\n",
       "      <td>333320</td>\n",
       "      <td>2015-06-07 20:39:50</td>\n",
       "      <td>2015-06-08 01:38:54</td>\n",
       "      <td>-1.142592</td>\n",
       "      <td>EOGFQPIZPYXFZ</td>\n",
       "      <td>2.304476</td>\n",
       "      <td>20.225.83.219</td>\n",
       "      <td>0</td>\n",
       "      <td>-1.443207</td>\n",
       "      <td>-1.571877</td>\n",
       "      <td>-1.522122</td>\n",
       "      <td>-1.501259</td>\n",
       "      <td>False</td>\n",
       "      <td>False</td>\n",
       "      <td>False</td>\n",
       "      <td>False</td>\n",
       "      <td>False</td>\n",
       "      <td>False</td>\n",
       "      <td>False</td>\n",
       "    </tr>\n",
       "    <tr>\n",
       "      <th>2</th>\n",
       "      <td>1359</td>\n",
       "      <td>2015-01-01 18:52:44</td>\n",
       "      <td>2015-01-01 18:52:45</td>\n",
       "      <td>-1.197169</td>\n",
       "      <td>YSSKYOSJHPPLJ</td>\n",
       "      <td>2.304476</td>\n",
       "      <td>156.64.132.28</td>\n",
       "      <td>1</td>\n",
       "      <td>0.375916</td>\n",
       "      <td>-1.577617</td>\n",
       "      <td>0.937208</td>\n",
       "      <td>-0.005891</td>\n",
       "      <td>False</td>\n",
       "      <td>True</td>\n",
       "      <td>False</td>\n",
       "      <td>False</td>\n",
       "      <td>True</td>\n",
       "      <td>False</td>\n",
       "      <td>True</td>\n",
       "    </tr>\n",
       "    <tr>\n",
       "      <th>3</th>\n",
       "      <td>150084</td>\n",
       "      <td>2015-04-28 21:13:25</td>\n",
       "      <td>2015-05-04 13:54:50</td>\n",
       "      <td>0.385567</td>\n",
       "      <td>ATGTXKYKUDUQN</td>\n",
       "      <td>0.911994</td>\n",
       "      <td>228.234.6.235</td>\n",
       "      <td>0</td>\n",
       "      <td>1.352348</td>\n",
       "      <td>-1.420213</td>\n",
       "      <td>0.213876</td>\n",
       "      <td>-1.501259</td>\n",
       "      <td>False</td>\n",
       "      <td>True</td>\n",
       "      <td>False</td>\n",
       "      <td>False</td>\n",
       "      <td>False</td>\n",
       "      <td>True</td>\n",
       "      <td>True</td>\n",
       "    </tr>\n",
       "    <tr>\n",
       "      <th>4</th>\n",
       "      <td>221365</td>\n",
       "      <td>2015-07-21 07:09:52</td>\n",
       "      <td>2015-09-09 18:40:53</td>\n",
       "      <td>0.112681</td>\n",
       "      <td>NAUITBZFJKHWW</td>\n",
       "      <td>1.376155</td>\n",
       "      <td>24.197.75.141</td>\n",
       "      <td>0</td>\n",
       "      <td>-1.390927</td>\n",
       "      <td>-0.182509</td>\n",
       "      <td>0.937208</td>\n",
       "      <td>-0.504347</td>\n",
       "      <td>False</td>\n",
       "      <td>False</td>\n",
       "      <td>False</td>\n",
       "      <td>False</td>\n",
       "      <td>False</td>\n",
       "      <td>True</td>\n",
       "      <td>True</td>\n",
       "    </tr>\n",
       "  </tbody>\n",
       "</table>\n",
       "</div>"
      ],
      "text/plain": [
       "   user_id         signup_time       purchase_time  purchase_value  \\\n",
       "0    22058 2015-02-24 22:55:49 2015-04-18 02:47:11       -0.160204   \n",
       "1   333320 2015-06-07 20:39:50 2015-06-08 01:38:54       -1.142592   \n",
       "2     1359 2015-01-01 18:52:44 2015-01-01 18:52:45       -1.197169   \n",
       "3   150084 2015-04-28 21:13:25 2015-05-04 13:54:50        0.385567   \n",
       "4   221365 2015-07-21 07:09:52 2015-09-09 18:40:53        0.112681   \n",
       "\n",
       "       device_id       age     ip_address  class  ip_address_int  \\\n",
       "0  QVPSPJUOCKZAR  0.679914    43.173.1.96      0       -1.136880   \n",
       "1  EOGFQPIZPYXFZ  2.304476  20.225.83.219      0       -1.443207   \n",
       "2  YSSKYOSJHPPLJ  2.304476  156.64.132.28      1        0.375916   \n",
       "3  ATGTXKYKUDUQN  0.911994  228.234.6.235      0        1.352348   \n",
       "4  NAUITBZFJKHWW  1.376155  24.197.75.141      0       -1.390927   \n",
       "\n",
       "   transaction_velocity_hours  hour_of_day  day_of_week  source_Direct  \\\n",
       "0                   -0.136057    -1.377455     0.991020          False   \n",
       "1                   -1.571877    -1.522122    -1.501259          False   \n",
       "2                   -1.577617     0.937208    -0.005891          False   \n",
       "3                   -1.420213     0.213876    -1.501259          False   \n",
       "4                   -0.182509     0.937208    -0.504347          False   \n",
       "\n",
       "   source_SEO  browser_FireFox  browser_IE  browser_Opera  browser_Safari  \\\n",
       "0        True            False       False          False           False   \n",
       "1       False            False       False          False           False   \n",
       "2        True            False       False           True           False   \n",
       "3        True            False       False          False            True   \n",
       "4       False            False       False          False            True   \n",
       "\n",
       "   sex_M  \n",
       "0   True  \n",
       "1  False  \n",
       "2   True  \n",
       "3   True  \n",
       "4   True  "
      ]
     },
     "execution_count": 51,
     "metadata": {},
     "output_type": "execute_result"
    }
   ],
   "source": [
    "fraud_data_final.head()"
   ]
  },
  {
   "cell_type": "code",
   "execution_count": 52,
   "metadata": {},
   "outputs": [
    {
     "data": {
      "text/html": [
       "<div>\n",
       "<style scoped>\n",
       "    .dataframe tbody tr th:only-of-type {\n",
       "        vertical-align: middle;\n",
       "    }\n",
       "\n",
       "    .dataframe tbody tr th {\n",
       "        vertical-align: top;\n",
       "    }\n",
       "\n",
       "    .dataframe thead th {\n",
       "        text-align: right;\n",
       "    }\n",
       "</style>\n",
       "<table border=\"1\" class=\"dataframe\">\n",
       "  <thead>\n",
       "    <tr style=\"text-align: right;\">\n",
       "      <th></th>\n",
       "      <th>Time</th>\n",
       "      <th>V1</th>\n",
       "      <th>V2</th>\n",
       "      <th>V3</th>\n",
       "      <th>V4</th>\n",
       "      <th>V5</th>\n",
       "      <th>V6</th>\n",
       "      <th>V7</th>\n",
       "      <th>V8</th>\n",
       "      <th>V9</th>\n",
       "      <th>...</th>\n",
       "      <th>V21</th>\n",
       "      <th>V22</th>\n",
       "      <th>V23</th>\n",
       "      <th>V24</th>\n",
       "      <th>V25</th>\n",
       "      <th>V26</th>\n",
       "      <th>V27</th>\n",
       "      <th>V28</th>\n",
       "      <th>Amount</th>\n",
       "      <th>Class</th>\n",
       "    </tr>\n",
       "  </thead>\n",
       "  <tbody>\n",
       "    <tr>\n",
       "      <th>0</th>\n",
       "      <td>1970-01-01 00:00:00</td>\n",
       "      <td>-0.701082</td>\n",
       "      <td>-0.041687</td>\n",
       "      <td>1.680101</td>\n",
       "      <td>0.976623</td>\n",
       "      <td>-0.247020</td>\n",
       "      <td>0.348012</td>\n",
       "      <td>0.193700</td>\n",
       "      <td>0.084434</td>\n",
       "      <td>0.333534</td>\n",
       "      <td>...</td>\n",
       "      <td>-0.024777</td>\n",
       "      <td>0.383483</td>\n",
       "      <td>-0.177444</td>\n",
       "      <td>0.110157</td>\n",
       "      <td>0.247059</td>\n",
       "      <td>-0.392622</td>\n",
       "      <td>0.333033</td>\n",
       "      <td>-0.065850</td>\n",
       "      <td>0.244200</td>\n",
       "      <td>0</td>\n",
       "    </tr>\n",
       "    <tr>\n",
       "      <th>1</th>\n",
       "      <td>1970-01-01 00:00:00</td>\n",
       "      <td>0.608792</td>\n",
       "      <td>0.164138</td>\n",
       "      <td>0.109279</td>\n",
       "      <td>0.318998</td>\n",
       "      <td>0.042258</td>\n",
       "      <td>-0.060980</td>\n",
       "      <td>-0.065656</td>\n",
       "      <td>0.072903</td>\n",
       "      <td>-0.231703</td>\n",
       "      <td>...</td>\n",
       "      <td>-0.311372</td>\n",
       "      <td>-0.881454</td>\n",
       "      <td>0.162081</td>\n",
       "      <td>-0.561503</td>\n",
       "      <td>0.321175</td>\n",
       "      <td>0.260854</td>\n",
       "      <td>-0.027154</td>\n",
       "      <td>0.043219</td>\n",
       "      <td>-0.342584</td>\n",
       "      <td>0</td>\n",
       "    </tr>\n",
       "    <tr>\n",
       "      <th>2</th>\n",
       "      <td>1970-01-01 00:00:01</td>\n",
       "      <td>-0.700336</td>\n",
       "      <td>-0.811337</td>\n",
       "      <td>1.174270</td>\n",
       "      <td>0.270648</td>\n",
       "      <td>-0.366756</td>\n",
       "      <td>1.352655</td>\n",
       "      <td>0.643223</td>\n",
       "      <td>0.210788</td>\n",
       "      <td>-1.381169</td>\n",
       "      <td>...</td>\n",
       "      <td>0.343094</td>\n",
       "      <td>1.065068</td>\n",
       "      <td>1.457772</td>\n",
       "      <td>-1.138484</td>\n",
       "      <td>-0.628161</td>\n",
       "      <td>-0.288861</td>\n",
       "      <td>-0.144325</td>\n",
       "      <td>-0.183824</td>\n",
       "      <td>1.158900</td>\n",
       "      <td>0</td>\n",
       "    </tr>\n",
       "    <tr>\n",
       "      <th>3</th>\n",
       "      <td>1970-01-01 00:00:01</td>\n",
       "      <td>-0.499064</td>\n",
       "      <td>-0.109972</td>\n",
       "      <td>1.187383</td>\n",
       "      <td>-0.608355</td>\n",
       "      <td>-0.008814</td>\n",
       "      <td>0.937245</td>\n",
       "      <td>0.192079</td>\n",
       "      <td>0.320843</td>\n",
       "      <td>-1.264664</td>\n",
       "      <td>...</td>\n",
       "      <td>-0.149093</td>\n",
       "      <td>0.007299</td>\n",
       "      <td>-0.305465</td>\n",
       "      <td>-1.941446</td>\n",
       "      <td>1.242487</td>\n",
       "      <td>-0.460694</td>\n",
       "      <td>0.154039</td>\n",
       "      <td>0.185687</td>\n",
       "      <td>0.139886</td>\n",
       "      <td>0</td>\n",
       "    </tr>\n",
       "    <tr>\n",
       "      <th>4</th>\n",
       "      <td>1970-01-01 00:00:02</td>\n",
       "      <td>-0.597606</td>\n",
       "      <td>0.535539</td>\n",
       "      <td>1.025470</td>\n",
       "      <td>0.287092</td>\n",
       "      <td>-0.297036</td>\n",
       "      <td>0.072873</td>\n",
       "      <td>0.481517</td>\n",
       "      <td>-0.228725</td>\n",
       "      <td>0.747917</td>\n",
       "      <td>...</td>\n",
       "      <td>-0.012516</td>\n",
       "      <td>1.101780</td>\n",
       "      <td>-0.220709</td>\n",
       "      <td>0.232904</td>\n",
       "      <td>-0.394800</td>\n",
       "      <td>1.041677</td>\n",
       "      <td>0.550001</td>\n",
       "      <td>0.654234</td>\n",
       "      <td>-0.073813</td>\n",
       "      <td>0</td>\n",
       "    </tr>\n",
       "  </tbody>\n",
       "</table>\n",
       "<p>5 rows × 31 columns</p>\n",
       "</div>"
      ],
      "text/plain": [
       "                 Time        V1        V2        V3        V4        V5  \\\n",
       "0 1970-01-01 00:00:00 -0.701082 -0.041687  1.680101  0.976623 -0.247020   \n",
       "1 1970-01-01 00:00:00  0.608792  0.164138  0.109279  0.318998  0.042258   \n",
       "2 1970-01-01 00:00:01 -0.700336 -0.811337  1.174270  0.270648 -0.366756   \n",
       "3 1970-01-01 00:00:01 -0.499064 -0.109972  1.187383 -0.608355 -0.008814   \n",
       "4 1970-01-01 00:00:02 -0.597606  0.535539  1.025470  0.287092 -0.297036   \n",
       "\n",
       "         V6        V7        V8        V9  ...       V21       V22       V23  \\\n",
       "0  0.348012  0.193700  0.084434  0.333534  ... -0.024777  0.383483 -0.177444   \n",
       "1 -0.060980 -0.065656  0.072903 -0.231703  ... -0.311372 -0.881454  0.162081   \n",
       "2  1.352655  0.643223  0.210788 -1.381169  ...  0.343094  1.065068  1.457772   \n",
       "3  0.937245  0.192079  0.320843 -1.264664  ... -0.149093  0.007299 -0.305465   \n",
       "4  0.072873  0.481517 -0.228725  0.747917  ... -0.012516  1.101780 -0.220709   \n",
       "\n",
       "        V24       V25       V26       V27       V28    Amount  Class  \n",
       "0  0.110157  0.247059 -0.392622  0.333033 -0.065850  0.244200      0  \n",
       "1 -0.561503  0.321175  0.260854 -0.027154  0.043219 -0.342584      0  \n",
       "2 -1.138484 -0.628161 -0.288861 -0.144325 -0.183824  1.158900      0  \n",
       "3 -1.941446  1.242487 -0.460694  0.154039  0.185687  0.139886      0  \n",
       "4  0.232904 -0.394800  1.041677  0.550001  0.654234 -0.073813      0  \n",
       "\n",
       "[5 rows x 31 columns]"
      ]
     },
     "execution_count": 52,
     "metadata": {},
     "output_type": "execute_result"
    }
   ],
   "source": [
    "credit_card_final.head()"
   ]
  },
  {
   "cell_type": "code",
   "execution_count": 53,
   "metadata": {},
   "outputs": [],
   "source": [
    "credit_card_final.to_csv('../data/credit_card_final.csv', index=False)"
   ]
  },
  {
   "cell_type": "code",
   "execution_count": 54,
   "metadata": {},
   "outputs": [],
   "source": [
    "fraud_data_final.to_csv('../data/fraud_data_final.csv', index=False)"
   ]
  }
 ],
 "metadata": {
  "kernelspec": {
   "display_name": "venv",
   "language": "python",
   "name": "python3"
  },
  "language_info": {
   "codemirror_mode": {
    "name": "ipython",
    "version": 3
   },
   "file_extension": ".py",
   "mimetype": "text/x-python",
   "name": "python",
   "nbconvert_exporter": "python",
   "pygments_lexer": "ipython3",
   "version": "3.8.0"
  }
 },
 "nbformat": 4,
 "nbformat_minor": 2
}
